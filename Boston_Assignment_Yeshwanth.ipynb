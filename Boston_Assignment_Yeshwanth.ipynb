{
 "metadata": {
  "name": "",
  "signature": "sha256:189c3fc95ab4f8f3983396df4f3a565bbc024e30e9eaedd53e5c94c7474a085b"
 },
 "nbformat": 3,
 "nbformat_minor": 0,
 "worksheets": [
  {
   "cells": [
    {
     "cell_type": "code",
     "collapsed": false,
     "input": [
      "from sklearn import datasets\n",
      "import pandas as pd\n",
      "from sklearn.preprocessing import StandardScaler\n",
      "from sklearn.cross_validation import train_test_split\n",
      "from sklearn.metrics import mean_squared_error\n",
      "from sklearn.metrics import r2_score\n",
      "from sklearn.linear_model import LinearRegression\n",
      "import math"
     ],
     "language": "python",
     "metadata": {},
     "outputs": [],
     "prompt_number": 1
    },
    {
     "cell_type": "code",
     "collapsed": false,
     "input": [
      "bean = datasets.load_boston()\n",
      "print bean.DESCR"
     ],
     "language": "python",
     "metadata": {},
     "outputs": [
      {
       "output_type": "stream",
       "stream": "stdout",
       "text": [
        "Boston House Prices dataset\n",
        "\n",
        "Notes\n",
        "------\n",
        "Data Set Characteristics:  \n",
        "\n",
        "    :Number of Instances: 506 \n",
        "\n",
        "    :Number of Attributes: 13 numeric/categorical predictive\n",
        "    \n",
        "    :Median Value (attribute 14) is usually the target\n",
        "\n",
        "    :Attribute Information (in order):\n",
        "        - CRIM     per capita crime rate by town\n",
        "        - ZN       proportion of residential land zoned for lots over 25,000 sq.ft.\n",
        "        - INDUS    proportion of non-retail business acres per town\n",
        "        - CHAS     Charles River dummy variable (= 1 if tract bounds river; 0 otherwise)\n",
        "        - NOX      nitric oxides concentration (parts per 10 million)\n",
        "        - RM       average number of rooms per dwelling\n",
        "        - AGE      proportion of owner-occupied units built prior to 1940\n",
        "        - DIS      weighted distances to five Boston employment centres\n",
        "        - RAD      index of accessibility to radial highways\n",
        "        - TAX      full-value property-tax rate per $10,000\n",
        "        - PTRATIO  pupil-teacher ratio by town\n",
        "        - B        1000(Bk - 0.63)^2 where Bk is the proportion of blacks by town\n",
        "        - LSTAT    % lower status of the population\n",
        "        - MEDV     Median value of owner-occupied homes in $1000's\n",
        "\n",
        "    :Missing Attribute Values: None\n",
        "\n",
        "    :Creator: Harrison, D. and Rubinfeld, D.L.\n",
        "\n",
        "This is a copy of UCI ML housing dataset.\n",
        "http://archive.ics.uci.edu/ml/datasets/Housing\n",
        "\n",
        "\n",
        "This dataset was taken from the StatLib library which is maintained at Carnegie Mellon University.\n",
        "\n",
        "The Boston house-price data of Harrison, D. and Rubinfeld, D.L. 'Hedonic\n",
        "prices and the demand for clean air', J. Environ. Economics & Management,\n",
        "vol.5, 81-102, 1978.   Used in Belsley, Kuh & Welsch, 'Regression diagnostics\n",
        "...', Wiley, 1980.   N.B. Various transformations are used in the table on\n",
        "pages 244-261 of the latter.\n",
        "\n",
        "The Boston house-price data has been used in many machine learning papers that address regression\n",
        "problems.   \n",
        "     \n",
        "**References**\n",
        "\n",
        "   - Belsley, Kuh & Welsch, 'Regression diagnostics: Identifying Influential Data and Sources of Collinearity', Wiley, 1980. 244-261.\n",
        "   - Quinlan,R. (1993). Combining Instance-Based and Model-Based Learning. In Proceedings on the Tenth International Conference of Machine Learning, 236-243, University of Massachusetts, Amherst. Morgan Kaufmann.\n",
        "   - many more! (see http://archive.ics.uci.edu/ml/datasets/Housing)\n",
        "\n"
       ]
      }
     ],
     "prompt_number": 2
    },
    {
     "cell_type": "code",
     "collapsed": false,
     "input": [
      "def load_boston():\n",
      "    scaler = StandardScaler()\n",
      "    boston = datasets.load_boston()\n",
      "    X=boston.data\n",
      "    y=boston.target\n",
      "    X = scaler.fit_transform(X)\n",
      "    return train_test_split(X,y)"
     ],
     "language": "python",
     "metadata": {},
     "outputs": [],
     "prompt_number": 3
    },
    {
     "cell_type": "code",
     "collapsed": false,
     "input": [
      "X_train, X_test, y_train, y_test = load_boston()"
     ],
     "language": "python",
     "metadata": {},
     "outputs": [],
     "prompt_number": 4
    },
    {
     "cell_type": "code",
     "collapsed": false,
     "input": [
      "X_train.shape"
     ],
     "language": "python",
     "metadata": {},
     "outputs": [
      {
       "metadata": {},
       "output_type": "pyout",
       "prompt_number": 5,
       "text": [
        "(379L, 13L)"
       ]
      }
     ],
     "prompt_number": 5
    },
    {
     "cell_type": "code",
     "collapsed": false,
     "input": [
      "clf = LinearRegression()\n",
      "clf.fit(X_train, y_train)"
     ],
     "language": "python",
     "metadata": {},
     "outputs": [
      {
       "metadata": {},
       "output_type": "pyout",
       "prompt_number": 6,
       "text": [
        "LinearRegression(copy_X=True, fit_intercept=True, normalize=False)"
       ]
      }
     ],
     "prompt_number": 6
    },
    {
     "cell_type": "code",
     "collapsed": false,
     "input": [
      "zip (y_test, clf.predict(X_test))"
     ],
     "language": "python",
     "metadata": {},
     "outputs": [
      {
       "metadata": {},
       "output_type": "pyout",
       "prompt_number": 7,
       "text": [
        "[(46.0, 39.733343485829863),\n",
        " (12.699999999999999, 12.861066723982718),\n",
        " (32.0, 33.322024453888858),\n",
        " (15.4, 17.410884890875685),\n",
        " (13.1, 14.945679684781698),\n",
        " (13.300000000000001, 13.465662182781308),\n",
        " (7.2000000000000002, 7.5145925925431332),\n",
        " (21.0, 20.557086328842288),\n",
        " (21.800000000000001, 20.505647383023867),\n",
        " (44.0, 36.902992046311525),\n",
        " (20.600000000000001, 19.265482993297507),\n",
        " (10.5, 12.189419828383944),\n",
        " (19.100000000000001, 16.808517363177685),\n",
        " (29.600000000000001, 24.367940386941676),\n",
        " (20.399999999999999, 22.883616427778058),\n",
        " (24.100000000000001, 21.061933451369093),\n",
        " (27.5, 19.421701030491583),\n",
        " (29.0, 31.571054478269161),\n",
        " (20.399999999999999, 20.51250163053448),\n",
        " (25.100000000000001, 30.026918976641873),\n",
        " (22.699999999999999, 25.417987381409016),\n",
        " (22.199999999999999, 24.215220518046969),\n",
        " (20.0, 17.288244709443941),\n",
        " (29.899999999999999, 31.311823303077766),\n",
        " (37.299999999999997, 33.541458270736094),\n",
        " (19.300000000000001, 20.373875200716462),\n",
        " (19.699999999999999, 13.842404561443356),\n",
        " (22.800000000000001, 24.334539275515986),\n",
        " (16.399999999999999, 18.540514800649202),\n",
        " (6.2999999999999998, 9.7488707237888299),\n",
        " (23.0, 23.310167712758322),\n",
        " (23.699999999999999, 28.138111436246824),\n",
        " (50.0, 43.572556528851663),\n",
        " (22.800000000000001, 28.426864909206831),\n",
        " (19.199999999999999, 19.863566536043685),\n",
        " (21.199999999999999, 23.483451269342495),\n",
        " (10.199999999999999, 16.276487749846204),\n",
        " (18.399999999999999, 18.451637945995465),\n",
        " (23.800000000000001, 25.49391369887929),\n",
        " (12.800000000000001, 12.680842363465516),\n",
        " (22.600000000000001, 24.209568250417071),\n",
        " (11.0, 13.839892255297778),\n",
        " (24.300000000000001, 24.616102231055986),\n",
        " (19.899999999999999, 18.659693704352431),\n",
        " (23.0, 20.070914775766646),\n",
        " (23.800000000000001, 23.693275871460191),\n",
        " (42.799999999999997, 28.397026885406508),\n",
        " (50.0, 34.65617601700427),\n",
        " (15.6, 11.492822832281089),\n",
        " (18.5, 19.223034395589561),\n",
        " (32.0, 33.472041248896304),\n",
        " (13.5, 13.120255837202262),\n",
        " (12.300000000000001, 12.814186476997596),\n",
        " (23.699999999999999, 27.193061191147102),\n",
        " (23.100000000000001, 16.042484426664075),\n",
        " (24.0, 25.259230201504632),\n",
        " (18.800000000000001, 21.090278738811758),\n",
        " (21.800000000000001, 21.269298277025616),\n",
        " (27.899999999999999, 31.224654202244807),\n",
        " (25.0, 24.170900732688608),\n",
        " (20.300000000000001, 22.656489883714556),\n",
        " (23.300000000000001, 28.346846781270315),\n",
        " (29.800000000000001, 24.88470446532358),\n",
        " (23.5, 30.477386089608686),\n",
        " (7.5, 12.489612351495705),\n",
        " (20.100000000000001, 18.540878936605786),\n",
        " (48.299999999999997, 36.101399815868163),\n",
        " (25.300000000000001, 24.777966637128735),\n",
        " (14.6, 19.106791439267262),\n",
        " (50.0, 39.389875064368795),\n",
        " (13.800000000000001, 0.69818953502949554),\n",
        " (23.199999999999999, 16.839962266553911),\n",
        " (18.0, 18.568045760336517),\n",
        " (20.0, 20.079284855998779),\n",
        " (23.699999999999999, 9.5044752025508235),\n",
        " (21.899999999999999, 24.528366737785678),\n",
        " (22.800000000000001, 26.48315863521972),\n",
        " (19.5, 18.717083716805785),\n",
        " (24.0, 30.23354861358564),\n",
        " (15.6, 16.036751514159253),\n",
        " (26.399999999999999, 23.118923348754485),\n",
        " (13.9, 16.688814865484296),\n",
        " (15.1, 17.316216192442148),\n",
        " (14.300000000000001, 16.897066597277103),\n",
        " (22.199999999999999, 24.223248054571361),\n",
        " (20.199999999999999, 16.101079330209846),\n",
        " (17.5, 18.54240030558498),\n",
        " (25.0, 28.510559300861427),\n",
        " (28.600000000000001, 28.218012574824328),\n",
        " (34.899999999999999, 29.807429588904547),\n",
        " (50.0, 25.363388633760717),\n",
        " (20.800000000000001, 23.426811174396377),\n",
        " (30.800000000000001, 30.866478710465699),\n",
        " (23.300000000000001, 26.330727681861159),\n",
        " (20.399999999999999, 20.704322708188222),\n",
        " (24.5, 21.337244324287859),\n",
        " (13.800000000000001, 11.082985214688193),\n",
        " (24.399999999999999, 23.197034031473081),\n",
        " (48.799999999999997, 39.779079714535285),\n",
        " (17.100000000000001, 16.625838931605795),\n",
        " (20.300000000000001, 23.806237969168251),\n",
        " (13.4, 12.598601475472531),\n",
        " (8.6999999999999993, 8.4064202145224929),\n",
        " (12.5, 18.688638874393167),\n",
        " (22.600000000000001, 26.874306655175417),\n",
        " (19.600000000000001, 21.206483185301504),\n",
        " (34.700000000000003, 30.273537781322815),\n",
        " (20.399999999999999, 19.65675371014207),\n",
        " (19.399999999999999, 23.472991549943373),\n",
        " (22.0, 27.468178168129352),\n",
        " (21.699999999999999, 20.176463831810221),\n",
        " (20.0, 22.361544178500473),\n",
        " (21.199999999999999, 22.860803503823035),\n",
        " (14.1, 17.202300840491912),\n",
        " (21.5, 20.53578468190182),\n",
        " (22.600000000000001, 18.949649265400318),\n",
        " (33.299999999999997, 36.054976967766592),\n",
        " (19.5, 19.926612489565489),\n",
        " (50.0, 41.970178474411938),\n",
        " (21.399999999999999, 22.049461083700017),\n",
        " (13.4, 16.272369224894792),\n",
        " (24.800000000000001, 24.816876215371334),\n",
        " (19.100000000000001, 19.720964087420391),\n",
        " (35.100000000000001, 34.82604298599685),\n",
        " (19.399999999999999, 17.356182261237812),\n",
        " (10.5, 6.2591588094652373),\n",
        " (18.199999999999999, 19.50279926728841)]"
       ]
      }
     ],
     "prompt_number": 7
    },
    {
     "cell_type": "code",
     "collapsed": false,
     "input": [
      "r2Square = r2_score(y_test, clf.predict(X_test))\n",
      "print(r2Square)"
     ],
     "language": "python",
     "metadata": {},
     "outputs": [
      {
       "output_type": "stream",
       "stream": "stdout",
       "text": [
        "0.731200736083\n"
       ]
      }
     ],
     "prompt_number": 8
    },
    {
     "cell_type": "code",
     "collapsed": false,
     "input": [
      "#Mean square error\n",
      "mse = mean_squared_error(y_test, clf.predict(X_test))\n",
      "print(mse)"
     ],
     "language": "python",
     "metadata": {},
     "outputs": [
      {
       "output_type": "stream",
       "stream": "stdout",
       "text": [
        "23.7930059135\n"
       ]
      }
     ],
     "prompt_number": 9
    },
    {
     "cell_type": "code",
     "collapsed": false,
     "input": [
      "#RMSE\n",
      "rMSE = math.sqrt(mse)\n",
      "print(rMSE)"
     ],
     "language": "python",
     "metadata": {},
     "outputs": [
      {
       "output_type": "stream",
       "stream": "stdout",
       "text": [
        "4.87780749041\n"
       ]
      }
     ],
     "prompt_number": 10
    },
    {
     "cell_type": "code",
     "collapsed": false,
     "input": [
      "from sklearn.linear_model import Ridge"
     ],
     "language": "python",
     "metadata": {},
     "outputs": [],
     "prompt_number": 11
    },
    {
     "cell_type": "code",
     "collapsed": false,
     "input": [
      "alpha = 0.1\n",
      "ridge = Ridge(alpha=alpha)\n",
      "\n",
      "y_pred_ridge = ridge.fit(X_train, y_train).predict(X_test)\n",
      "\n",
      "r2_score_ridge = r2_score(y_test, y_pred_ridge)\n",
      "print(r2_score_ridge)"
     ],
     "language": "python",
     "metadata": {},
     "outputs": [
      {
       "output_type": "stream",
       "stream": "stdout",
       "text": [
        "0.73121096677\n"
       ]
      }
     ],
     "prompt_number": 12
    },
    {
     "cell_type": "code",
     "collapsed": false,
     "input": [
      "mse_ridge = mean_squared_error(y_test, y_pred_ridge)\n",
      "print(mse_ridge)"
     ],
     "language": "python",
     "metadata": {},
     "outputs": [
      {
       "output_type": "stream",
       "stream": "stdout",
       "text": [
        "23.7921003351\n"
       ]
      }
     ],
     "prompt_number": 13
    },
    {
     "cell_type": "code",
     "collapsed": false,
     "input": [
      "rMSE_ridge = math.sqrt(mse_ridge)\n",
      "print(rMSE_ridge)"
     ],
     "language": "python",
     "metadata": {},
     "outputs": [
      {
       "output_type": "stream",
       "stream": "stdout",
       "text": [
        "4.87771466315\n"
       ]
      }
     ],
     "prompt_number": 14
    },
    {
     "cell_type": "code",
     "collapsed": false,
     "input": [
      "from sklearn.linear_model import Lasso"
     ],
     "language": "python",
     "metadata": {},
     "outputs": [],
     "prompt_number": 15
    },
    {
     "cell_type": "code",
     "collapsed": false,
     "input": [
      "alpha = 0.1\n",
      "usingLasso = Lasso(alpha=alpha)\n",
      "\n",
      "y_pred_lasso = usingLasso.fit(X_train, y_train).predict(X_test)\n",
      "\n",
      "r2_score_lasso = r2_score(y_test, y_pred_ridge)\n",
      "print(r2_score_lasso)"
     ],
     "language": "python",
     "metadata": {},
     "outputs": [
      {
       "output_type": "stream",
       "stream": "stdout",
       "text": [
        "0.73121096677\n"
       ]
      }
     ],
     "prompt_number": 16
    },
    {
     "cell_type": "code",
     "collapsed": false,
     "input": [
      "mse_lasso = mean_squared_error(y_test, y_pred_lasso)\n",
      "print(mse_lasso)"
     ],
     "language": "python",
     "metadata": {},
     "outputs": [
      {
       "output_type": "stream",
       "stream": "stdout",
       "text": [
        "24.218801979\n"
       ]
      }
     ],
     "prompt_number": 17
    },
    {
     "cell_type": "code",
     "collapsed": false,
     "input": [
      "rMSE_lasso = math.sqrt(mse_lasso)\n",
      "print(rMSE_lasso)"
     ],
     "language": "python",
     "metadata": {},
     "outputs": [
      {
       "output_type": "stream",
       "stream": "stdout",
       "text": [
        "4.92126020233\n"
       ]
      }
     ],
     "prompt_number": 18
    },
    {
     "cell_type": "code",
     "collapsed": false,
     "input": [],
     "language": "python",
     "metadata": {},
     "outputs": []
    }
   ],
   "metadata": {}
  }
 ]
}